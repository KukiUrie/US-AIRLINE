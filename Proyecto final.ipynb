{
 "cells": [
  {
   "cell_type": "markdown",
   "metadata": {},
   "source": [
    "### LIBRERIAS ##\n",
    "\n"
   ]
  },
  {
   "cell_type": "code",
   "execution_count": 2,
   "metadata": {},
   "outputs": [],
   "source": [
    "from sqlalchemy import create_engine\n",
    "from sqlalchemy.exc import SQLAlchemyError \n",
    "import pandas as pd\n",
    "import mysql.connector\n",
    "from mysql.connector import errorcode\n"
   ]
  },
  {
   "cell_type": "markdown",
   "metadata": {},
   "source": [
    "29/09/2024"
   ]
  },
  {
   "cell_type": "code",
   "execution_count": 8,
   "metadata": {},
   "outputs": [],
   "source": [
    "user = \"root\"\n",
    "password = \"Maicha12345#\"\n",
    "host = 'localhost'\n",
    "database = \"us_airline_db\"\n"
   ]
  },
  {
   "cell_type": "code",
   "execution_count": 4,
   "metadata": {},
   "outputs": [],
   "source": [
    "config = {\n",
    "    'user': user, \n",
    "    'password': password,\n",
    "    'host': host\n",
    "}\n"
   ]
  },
  {
   "cell_type": "code",
   "execution_count": 5,
   "metadata": {},
   "outputs": [
    {
     "name": "stdout",
     "output_type": "stream",
     "text": [
      "1007 (HY000): Can't create database 'us_airline_db'; database exists\n"
     ]
    }
   ],
   "source": [
    "try:\n",
    "    conn = mysql.connector.connect(**config)\n",
    "    cursor = conn.cursor()\n",
    "    cursor.execute(f\"CREATE DATABASE `{database}`;\")\n",
    "\n",
    "    print(f\"Se creó la base de datos {database}\")\n",
    "\n",
    "except mysql.connector.Error as err:\n",
    "    if err.errno == errorcode.ER_ACCESS_DENIED_ERROR:\n",
    "        print(\"Usuario o contraseña incorrectos\")\n",
    "    elif err.errno == errorcode.ER_BAD_DB_ERROR:\n",
    "        print(\"La base de datos no existe.\")\n",
    "    else:\n",
    "        print(err)\n",
    "finally:\n",
    "    cursor.close()\n",
    "    conn.close()\n",
    "\n"
   ]
  },
  {
   "cell_type": "code",
   "execution_count": 12,
   "metadata": {},
   "outputs": [
    {
     "name": "stdout",
     "output_type": "stream",
     "text": [
      "Tabla 'US AIRLINE' creada exitosamente.\n"
     ]
    }
   ],
   "source": [
    "try:\n",
    "    # Conectar al servidor MySQL usando la configuración especificada\n",
    "    conn = mysql.connector.connect(**config)\n",
    "    cursor = conn.cursor()  # Crear un cursor para ejecutar comandos SQL\n",
    "\n",
    "    # Seleccionar la base de datos\n",
    "    cursor.execute(\"USE us_airline_db\")\n",
    "\n",
    "    # Crear la tabla si no existe\n",
    "    create_table_query = \"\"\"\n",
    "    CREATE TABLE IF NOT EXISTS us_airline_db (\n",
    "        Year INT PRIMARY KEY,              # Year of the data record\n",
    "        quarter INT,                       # Quarter of the year (1-4)\n",
    "        citymarketid_1 INT,                # Origin city market ID\n",
    "        citymarketid_2 INT,                # Destination city market ID\n",
    "        city1 VARCHAR(20),                 # Origin city name\n",
    "        city2 VARCHAR(20),                 # Destination city name\n",
    "        airportid_1 INT,                   # Origin airport ID\n",
    "        airportid_2 INT,                   # Destination airport ID\n",
    "        airport_1 VARCHAR(20),             # Origin airport code\n",
    "        airport_2 VARCHAR(20),             # Destination airport code\n",
    "        nsmiles INT,                       # Distance between airports in miles\n",
    "        passengers INT,                    # Number of passengers\n",
    "        fare FLOAT,                        # Average fare\n",
    "        carrier_lg VARCHAR(20),            # Code for the largest carrier by passengers\n",
    "        large_ms FLOAT,                    # Market share of the largest carrier\n",
    "        fare_lg FLOAT,                     # Average fare of the largest carrier\n",
    "        carrier_low VARCHAR(20),           # Code for the lowest fare carrier\n",
    "        lf_ms FLOAT,                       # Market share of the lowest fare carrier\n",
    "        fare_low FLOAT                     # Lowest fare\n",
    "    );\n",
    "    \"\"\"\n",
    "\n",
    "    # Ejecutar la consulta para crear la tabla\n",
    "    cursor.execute(create_table_query)  # Ejecuta la consulta SQL\n",
    "    print(\"Tabla 'US AIRLINE' creada exitosamente.\")  # Mensaje de éxito\n",
    "\n",
    "except mysql.connector.Error as err:  # Captura cualquier error de MySQL\n",
    "    if err.errno == errorcode.ER_ACCESS_DENIED_ERROR:\n",
    "        print(\"Usuario o contraseña incorrectos.\")  # Mensaje si hay problemas de acceso\n",
    "    elif err.errno == errorcode.ER_NO_SUCH_TABLE:\n",
    "        print(\"La tabla no existe.\")  # Mensaje si la tabla especificada no existe\n",
    "    else:\n",
    "        print(err)  # Imprimir otro tipo de error que pueda ocurrir\n",
    "\n",
    "finally:\n",
    "    # Cerrar el cursor y la conexión para liberar recursos\n",
    "    cursor.close()  # Cerrar el cursor\n",
    "    conn.close()  # Cerrar la conexión\n"
   ]
  },
  {
   "cell_type": "code",
   "execution_count": 15,
   "metadata": {},
   "outputs": [
    {
     "name": "stdout",
     "output_type": "stream",
     "text": [
      "Datos Cargados.\n"
     ]
    }
   ],
   "source": [
    "csv_file=\"C:/Users/Daniel/Documents/GESTION Y ALMACENAMIENTO DE DATOS/US Airline Flight Routes and Fares 1993-2024_v2.csv\"\n",
    "\n",
    "try:\n",
    "    df=pd.read_csv(csv_file)\n",
    "    connection_string=f'mysql+mysqlconnector:// {user} :{password}@{host}/{database}'\n",
    "    engine = create_engine(connection_string)\n",
    "    df.to_sql('us_airline_db', con=engine, if_exists='replace', index=False)\n",
    "except mysql.connector.Error as err:\n",
    "    print(f\"Error en carga de datos: {err}\")\n",
    "finally:\n",
    "    print(\"Datos Cargados.\")"
   ]
  },
  {
   "cell_type": "code",
   "execution_count": null,
   "metadata": {},
   "outputs": [],
   "source": []
  }
 ],
 "metadata": {
  "kernelspec": {
   "display_name": "Python 3",
   "language": "python",
   "name": "python3"
  },
  "language_info": {
   "codemirror_mode": {
    "name": "ipython",
    "version": 3
   },
   "file_extension": ".py",
   "mimetype": "text/x-python",
   "name": "python",
   "nbconvert_exporter": "python",
   "pygments_lexer": "ipython3",
   "version": "3.11.9"
  }
 },
 "nbformat": 4,
 "nbformat_minor": 2
}
